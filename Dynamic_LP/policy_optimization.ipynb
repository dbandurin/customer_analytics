{
 "cells": [
  {
   "cell_type": "code",
   "execution_count": 3,
   "metadata": {},
   "outputs": [],
   "source": [
    "#https://docs.scipy.org/doc/scipy/reference/generated/scipy.optimize.linprog.html"
   ]
  },
  {
   "cell_type": "code",
   "execution_count": 1,
   "metadata": {},
   "outputs": [],
   "source": [
    "from scipy.optimize import linprog"
   ]
  },
  {
   "cell_type": "markdown",
   "metadata": {},
   "source": [
    "# Test"
   ]
  },
  {
   "cell_type": "code",
   "execution_count": 4,
   "metadata": {},
   "outputs": [],
   "source": [
    ">>> c = [-1, 4]\n",
    ">>> A = [[-3, 1], [1, 2]]\n",
    ">>> b = [6, 4]\n",
    ">>> x0_bounds = (None, None)\n",
    ">>> x1_bounds = (-3, None)\n",
    ">>> from scipy.optimize import linprog\n",
    ">>> res = linprog(c, A_ub=A, b_ub=b, bounds=[x0_bounds, x1_bounds])"
   ]
  },
  {
   "cell_type": "code",
   "execution_count": 8,
   "metadata": {},
   "outputs": [
    {
     "data": {
      "text/plain": [
       "     con: array([], dtype=float64)\n",
       "     fun: -22.0\n",
       " message: 'Optimization terminated successfully.'\n",
       "     nit: 5\n",
       "   slack: array([3.90000000e+01, 1.77635684e-15])\n",
       "  status: 0\n",
       " success: True\n",
       "       x: array([10., -3.])"
      ]
     },
     "execution_count": 8,
     "metadata": {},
     "output_type": "execute_result"
    }
   ],
   "source": [
    "res"
   ]
  },
  {
   "cell_type": "markdown",
   "metadata": {},
   "source": [
    "# Promotion Policy optimization"
   ]
  },
  {
   "cell_type": "code",
   "execution_count": 20,
   "metadata": {},
   "outputs": [],
   "source": [
    "import pandas as pd\n",
    "import numpy as np"
   ]
  },
  {
   "cell_type": "markdown",
   "metadata": {},
   "source": [
    "## Transition matrices"
   ]
  },
  {
   "cell_type": "code",
   "execution_count": 70,
   "metadata": {},
   "outputs": [],
   "source": [
    "#df_prom = pd.read_clipboard(header=None)\n",
    "#df_prom = np.array([[eval(x.replace(',','.')) for x in lst] for lst in df_prom.values])\n",
    "#df_prom"
   ]
  },
  {
   "cell_type": "code",
   "execution_count": 71,
   "metadata": {},
   "outputs": [],
   "source": [
    "#df_noprom = pd.read_clipboard(header=None)\n",
    "#df_noprom = np.array([[eval(x.replace(',','.')) for x in lst] for lst in df_noprom.values])\n",
    "#df_noprom"
   ]
  },
  {
   "cell_type": "code",
   "execution_count": 76,
   "metadata": {},
   "outputs": [],
   "source": [
    "df_prom = \\\n",
    "np.array([[0.42304713, 0.099212809, 0.06149504, 0.416245021],\n",
    " [0.345787141, 0.210922391, 0.214818328, 0.22847214],\n",
    " [0.214721697, 0.203372485, 0.444736585, 0.137169234],\n",
    " [0.148860601, 0.026640066, 0.019077087, 0.805422247]])"
   ]
  },
  {
   "cell_type": "code",
   "execution_count": 77,
   "metadata": {},
   "outputs": [],
   "source": [
    "df_noprom = \\\n",
    "np.array([[0.41460088, 0.062302519, 0.026682139, 0.496414462],\n",
    " [0.383677194, 0.174386755, 0.115838466, 0.326097585],\n",
    " [0.274194963, 0.206881578, 0.280890917, 0.238032542],\n",
    " [0.106374021, 0.012100243, 0.005322744, 0.876202993]])"
   ]
  },
  {
   "cell_type": "code",
   "execution_count": 80,
   "metadata": {},
   "outputs": [],
   "source": [
    "c_rev_prom = np.array([6.974400935, 18.091354, 43.75314058, 0])\n",
    "c_rev_noprom = np.array([14.0327348, 51.71727749, 139.2049217, 0])"
   ]
  },
  {
   "cell_type": "code",
   "execution_count": 48,
   "metadata": {},
   "outputs": [],
   "source": [
    "alpha = 0.9"
   ]
  },
  {
   "cell_type": "code",
   "execution_count": 50,
   "metadata": {},
   "outputs": [],
   "source": [
    "d_prom = 2\n",
    "d_noprom = 0"
   ]
  },
  {
   "cell_type": "code",
   "execution_count": 159,
   "metadata": {},
   "outputs": [
    {
     "data": {
      "text/plain": [
       "array([0.42304713, 0.34578714, 0.2147217 , 0.1488606 ])"
      ]
     },
     "execution_count": 159,
     "metadata": {},
     "output_type": "execute_result"
    }
   ],
   "source": [
    "df_prom.T[0][:]"
   ]
  },
  {
   "cell_type": "code",
   "execution_count": 137,
   "metadata": {},
   "outputs": [
    {
     "data": {
      "text/plain": [
       "matrix([[0.42304713, 0.09921281, 0.06149504, 0.41624502],\n",
       "        [0.34578714, 0.21092239, 0.21481833, 0.22847214],\n",
       "        [0.2147217 , 0.20337248, 0.44473659, 0.13716923],\n",
       "        [0.1488606 , 0.02664007, 0.01907709, 0.80542225]])"
      ]
     },
     "execution_count": 137,
     "metadata": {},
     "output_type": "execute_result"
    }
   ],
   "source": [
    "m = np.matrix(df_prom)\n",
    "m"
   ]
  },
  {
   "cell_type": "code",
   "execution_count": 151,
   "metadata": {},
   "outputs": [
    {
     "data": {
      "text/plain": [
       "array([[0.42304713],\n",
       "       [0.34578714],\n",
       "       [0.2147217 ],\n",
       "       [0.1488606 ]])"
      ]
     },
     "execution_count": 151,
     "metadata": {},
     "output_type": "execute_result"
    }
   ],
   "source": [
    "np.array(m[:,0])\n"
   ]
  },
  {
   "cell_type": "code",
   "execution_count": 156,
   "metadata": {},
   "outputs": [
    {
     "data": {
      "text/plain": [
       "array([[[-0.61925758,  0.31120843,  0.19324953,  0.13397454]],\n",
       "\n",
       "       [[ 0.08929153, -0.81016985,  0.18303524,  0.02397606]],\n",
       "\n",
       "       [[ 0.05534554,  0.1933365 , -0.59973707,  0.01716938]],\n",
       "\n",
       "       [[ 0.37462052,  0.20562493,  0.12345231, -0.27511998]]])"
      ]
     },
     "execution_count": 156,
     "metadata": {},
     "output_type": "execute_result"
    }
   ],
   "source": [
    "np.array([alpha*m[:,0].T - um[0], alpha*m[:,1].T - um[1], alpha*m[:,2].T - um[2], alpha*m[:,3].T - um[3]])"
   ]
  },
  {
   "cell_type": "markdown",
   "metadata": {},
   "source": [
    "## Linear programming"
   ]
  },
  {
   "cell_type": "code",
   "execution_count": 165,
   "metadata": {},
   "outputs": [],
   "source": [
    "def lp_solve(P, c_rev, d_cost, alpha):\n",
    "    c = [1,1,1,1]\n",
    "    um = np.eye(4)\n",
    "    A = [alpha*P[0][:] - um[0], alpha*P[1][:] - um[1], alpha*P[2][:] - um[2], alpha*P[3][:] - um[3]]\n",
    "    b = d_cost - c_rev\n",
    "    x0_bounds = x1_bounds = x2_bounds = x3_bounds = (0, None)\n",
    "    res = linprog(c, A_ub=A, b_ub=b, bounds=[x0_bounds, x1_bounds,x2_bounds,x3_bounds])\n",
    "    print(res.fun)\n",
    "    print(res.x, sum(res.x))\n",
    "    return res"
   ]
  },
  {
   "cell_type": "markdown",
   "metadata": {},
   "source": [
    "### Results with promotion"
   ]
  },
  {
   "cell_type": "code",
   "execution_count": 166,
   "metadata": {},
   "outputs": [
    {
     "name": "stdout",
     "output_type": "stream",
     "text": [
      "142.00840690529137\n",
      "[16.70930327 42.36776361 82.93134003  0.        ] 142.00840690529137\n"
     ]
    }
   ],
   "source": [
    "res = lp_solve(df_prom, c_rev_prom, 5, 0.9)"
   ]
  },
  {
   "cell_type": "code",
   "execution_count": 167,
   "metadata": {},
   "outputs": [
    {
     "name": "stdout",
     "output_type": "stream",
     "text": [
      "174.98136408857312\n",
      "[24.99530965 50.78523039 91.43597985  7.7648442 ] 174.98136408857312\n"
     ]
    }
   ],
   "source": [
    "res = lp_solve(df_prom, c_rev_prom, 4, 0.9)"
   ]
  },
  {
   "cell_type": "code",
   "execution_count": 168,
   "metadata": {},
   "outputs": [
    {
     "name": "stdout",
     "output_type": "stream",
     "text": [
      "254.981364562187\n",
      "[ 44.99530976  70.78523049 111.43597997  27.76484434] 254.981364562187\n"
     ]
    }
   ],
   "source": [
    "res = lp_solve(df_prom, c_rev_prom, 2, 0.9)"
   ]
  },
  {
   "cell_type": "code",
   "execution_count": 169,
   "metadata": {},
   "outputs": [
    {
     "name": "stdout",
     "output_type": "stream",
     "text": [
      "424.1632569530994\n",
      "[ 86.33462034 113.85324657 156.18216053  67.79322952] 424.16325695309934\n"
     ]
    }
   ],
   "source": [
    "res = lp_solve(df_prom, c_rev_prom, 2, 0.95)"
   ]
  },
  {
   "cell_type": "code",
   "execution_count": 170,
   "metadata": {},
   "outputs": [
    {
     "name": "stdout",
     "output_type": "stream",
     "text": [
      "504.16325798313903\n",
      "[106.33462058 133.85324682 176.18216079  87.79322979] 504.16325798313903\n"
     ]
    }
   ],
   "source": [
    "res = lp_solve(df_prom, c_rev_prom, 1, 0.95)"
   ]
  },
  {
   "cell_type": "code",
   "execution_count": 171,
   "metadata": {},
   "outputs": [
    {
     "name": "stdout",
     "output_type": "stream",
     "text": [
      "584.1632590131794\n",
      "[126.33462083 153.85324706 196.18216105 107.79323007] 584.1632590131793\n"
     ]
    }
   ],
   "source": [
    "res = lp_solve(df_prom, c_rev_prom, 0, 0.95)"
   ]
  },
  {
   "cell_type": "code",
   "execution_count": 172,
   "metadata": {},
   "outputs": [
    {
     "name": "stdout",
     "output_type": "stream",
     "text": [
      "2131.4436207071476\n",
      "[512.35283956 541.32980318 585.06627886 492.6946991 ] 2131.443620707148\n"
     ]
    }
   ],
   "source": [
    "res = lp_solve(df_prom, c_rev_prom, 0, 0.988)"
   ]
  },
  {
   "cell_type": "markdown",
   "metadata": {},
   "source": [
    "### Results without promotion"
   ]
  },
  {
   "cell_type": "code",
   "execution_count": 173,
   "metadata": {},
   "outputs": [
    {
     "name": "stdout",
     "output_type": "stream",
     "text": [
      "539.6137418899511\n",
      "[ 81.19522473 144.66799876 263.55882336  50.19169504] 539.6137418899511\n"
     ]
    }
   ],
   "source": [
    "res = lp_solve(df_noprom, c_rev_noprom, 0, 0.9)"
   ]
  },
  {
   "cell_type": "code",
   "execution_count": 174,
   "metadata": {},
   "outputs": [
    {
     "name": "stdout",
     "output_type": "stream",
     "text": [
      "797.283693105075\n",
      "[144.15664347 210.05736291 331.73837775 111.33130898] 797.283693105075\n"
     ]
    }
   ],
   "source": [
    "res = lp_solve(df_noprom, c_rev_noprom, 0, 0.95)"
   ]
  },
  {
   "cell_type": "code",
   "execution_count": 175,
   "metadata": {},
   "outputs": [
    {
     "name": "stdout",
     "output_type": "stream",
     "text": [
      "2368.909458295481\n",
      "[535.89026625 603.76266473 727.69390088 501.56262644] 2368.909458295481\n"
     ]
    }
   ],
   "source": [
    "res = lp_solve(df_noprom, c_rev_noprom, 0, 0.988)"
   ]
  },
  {
   "cell_type": "code",
   "execution_count": 176,
   "metadata": {},
   "outputs": [
    {
     "name": "stdout",
     "output_type": "stream",
     "text": [
      "459.6137413980428\n",
      "[ 61.19522462 124.66799864 243.55882325  30.19169489] 459.6137413980428\n"
     ]
    }
   ],
   "source": [
    "res = lp_solve(df_noprom, c_rev_noprom, 2, 0.9)"
   ]
  },
  {
   "cell_type": "code",
   "execution_count": null,
   "metadata": {},
   "outputs": [],
   "source": []
  }
 ],
 "metadata": {
  "kernelspec": {
   "display_name": "Python 3",
   "language": "python",
   "name": "python3"
  },
  "language_info": {
   "codemirror_mode": {
    "name": "ipython",
    "version": 3
   },
   "file_extension": ".py",
   "mimetype": "text/x-python",
   "name": "python",
   "nbconvert_exporter": "python",
   "pygments_lexer": "ipython3",
   "version": "3.7.3"
  }
 },
 "nbformat": 4,
 "nbformat_minor": 2
}
